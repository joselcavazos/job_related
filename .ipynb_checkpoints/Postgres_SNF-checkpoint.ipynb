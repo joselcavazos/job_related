{
 "cells": [
  {
   "cell_type": "code",
   "execution_count": 1,
   "id": "da76eeff-87bd-4fbc-81a1-bdd80a7ff7d8",
   "metadata": {},
   "outputs": [
    {
     "name": "stdout",
     "output_type": "stream",
     "text": [
      "Defaulting to user installation because normal site-packages is not writeable\n",
      "Collecting sqlglot\n",
      "  Downloading sqlglot-26.2.1-py3-none-any.whl.metadata (19 kB)\n",
      "Downloading sqlglot-26.2.1-py3-none-any.whl (443 kB)\n",
      "Installing collected packages: sqlglot\n",
      "Successfully installed sqlglot-26.2.1\n",
      "Note: you may need to restart the kernel to use updated packages.\n"
     ]
    }
   ],
   "source": [
    "%pip install sqlglot"
   ]
  },
  {
   "cell_type": "code",
   "execution_count": 5,
   "id": "632620dd-8da3-4eac-a1d3-cd0f45bebd00",
   "metadata": {},
   "outputs": [
    {
     "name": "stdout",
     "output_type": "stream",
     "text": [
      "Defaulting to user installation because normal site-packages is not writeable\n",
      "Collecting sqlparse\n",
      "  Downloading sqlparse-0.5.3-py3-none-any.whl.metadata (3.9 kB)\n",
      "Downloading sqlparse-0.5.3-py3-none-any.whl (44 kB)\n",
      "Installing collected packages: sqlparse\n",
      "Successfully installed sqlparse-0.5.3\n",
      "Note: you may need to restart the kernel to use updated packages.\n"
     ]
    }
   ],
   "source": [
    "%pip install sqlparse"
   ]
  },
  {
   "cell_type": "code",
   "execution_count": 8,
   "id": "e1f97d73-bb8d-427a-aa2a-764c280a4f5f",
   "metadata": {},
   "outputs": [
    {
     "name": "stdout",
     "output_type": "stream",
     "text": [
      "/Users/jlcavazos/Learn Python\n"
     ]
    }
   ],
   "source": [
    "import os\n",
    "print(os.getcwd())\n"
   ]
  },
  {
   "cell_type": "markdown",
   "id": "10f2120d-c7b8-46e0-b9bb-924818929338",
   "metadata": {},
   "source": [
    "# Draft 1 "
   ]
  },
  {
   "cell_type": "code",
   "execution_count": 2,
   "id": "abf02202-b220-4044-aefc-397e7c403bf9",
   "metadata": {},
   "outputs": [
    {
     "name": "stdout",
     "output_type": "stream",
     "text": [
      "SQL conversion complete. Output saved to: /Users/jlcavazos/Learn Python/output_snowflake.sql\n"
     ]
    }
   ],
   "source": [
    "import sqlglot\n",
    "import re\n",
    "\n",
    "def convert_sql_with_table_mapping(input_sql_file, output_sql_file, table_mapping_file):\n",
    "    \"\"\"\n",
    "    Converts a SQL file from Postgres to Snowflake syntax and replaces table names based on a mapping.\n",
    "\n",
    "    Args:\n",
    "        input_sql_file (str): Path to the input SQL file.\n",
    "        output_sql_file (str): Path to save the converted SQL file.\n",
    "        table_mapping_file (str): Path to the file with table name mappings (Postgres to Snowflake).\n",
    "                                  Format: postgres_table_name,snowflake_table_name\n",
    "    \"\"\"\n",
    "    # Load table name mappings\n",
    "    table_mappings = {}\n",
    "    with open(table_mapping_file, 'r') as mapping_file:\n",
    "        for line in mapping_file:\n",
    "            if ',' in line:\n",
    "                postgres_table, snowflake_table = line.strip().split(',')\n",
    "                table_mappings[postgres_table.strip()] = snowflake_table.strip()\n",
    "\n",
    "    # Read the input SQL file\n",
    "    with open(input_sql_file, 'r') as input_file:\n",
    "        sql_content = input_file.read()\n",
    "\n",
    "    # Replace table names using the mapping\n",
    "    for postgres_table, snowflake_table in table_mappings.items():\n",
    "        # Match whole words only to avoid partial replacements\n",
    "        sql_content = re.sub(rf'\\b{re.escape(postgres_table)}\\b', snowflake_table, sql_content)\n",
    "\n",
    "    # Convert SQL syntax from Postgres to Snowflake using SQLGlot\n",
    "    try:\n",
    "        converted_sql = sqlglot.transpile(sql_content, read='postgres', write='snowflake')\n",
    "        converted_sql_text = '\\n'.join(converted_sql)\n",
    "    except Exception as e:\n",
    "        print(f\"Error during SQL conversion: {e}\")\n",
    "        return\n",
    "\n",
    "    # Write the converted SQL to the output file\n",
    "    with open(output_sql_file, 'w') as output_file:\n",
    "        output_file.write(converted_sql_text)\n",
    "\n",
    "    print(f\"SQL conversion complete. Output saved to: {output_sql_file}\")\n",
    "\n",
    "# Example usage\n",
    "if __name__ == \"__main__\":\n",
    "    # Provide paths to the input files and output file\n",
    "    input_sql_file = \"/Users/jlcavazos/Learn Python/input_postgres.sql\"          # Path to input SQL file\n",
    "    output_sql_file = \"/Users/jlcavazos/Learn Python/output_snowflake.sql\"       # Path to save the converted SQL file\n",
    "    table_mapping_file = \"/Users/jlcavazos/Learn Python/table_mapping.txt\"       # Path to table mapping file\n",
    "\n",
    "    convert_sql_with_table_mapping(input_sql_file, output_sql_file, table_mapping_file)\n"
   ]
  },
  {
   "cell_type": "markdown",
   "id": "57e2afa4-c852-40b9-9a2a-d93ab95e63a3",
   "metadata": {},
   "source": [
    "# Draft 2"
   ]
  },
  {
   "cell_type": "code",
   "execution_count": 12,
   "id": "d150222d-c453-4527-a085-3ebb5b05056d",
   "metadata": {},
   "outputs": [
    {
     "name": "stdout",
     "output_type": "stream",
     "text": [
      "SQL conversion complete. Output saved to: /Users/jlcavazos/Learn Python/output_snowflake.sql\n"
     ]
    }
   ],
   "source": [
    "import sqlglot\n",
    "import sqlparse\n",
    "import re\n",
    "\n",
    "def convert_sql_with_table_mapping(input_sql_file, output_sql_file, table_mapping_file):\n",
    "    \"\"\"\n",
    "    Converts a SQL file from Postgres to Snowflake syntax and replaces table names based on a mapping.\n",
    "    The table name replacements are case-insensitive.\n",
    "\n",
    "    Args:\n",
    "        input_sql_file (str): Path to the input SQL file.\n",
    "        output_sql_file (str): Path to save the converted SQL file.\n",
    "        table_mapping_file (str): Path to the file with table name mappings (Postgres to Snowflake).\n",
    "                                  Format: postgres_table_name,snowflake_table_name\n",
    "    \"\"\"\n",
    "    # Load table name mappings\n",
    "    table_mappings = {}\n",
    "    with open(table_mapping_file, 'r') as mapping_file:\n",
    "        for line in mapping_file:\n",
    "            if ',' in line:\n",
    "                postgres_table, snowflake_table = line.strip().split(',')\n",
    "                # Store mappings as lowercase for case-insensitive comparison\n",
    "                table_mappings[postgres_table.strip().lower()] = snowflake_table.strip()\n",
    "\n",
    "    # Read the input SQL file\n",
    "    with open(input_sql_file, 'r') as input_file:\n",
    "        sql_content = input_file.read()\n",
    "\n",
    "    # Replace table names using the mapping (case-insensitive)\n",
    "    def replace_table_name(match):\n",
    "        # Replace with the correct Snowflake table name, maintaining original case\n",
    "        original_table_name = match.group(0)\n",
    "        return table_mappings[original_table_name.lower()]\n",
    "\n",
    "    for postgres_table in table_mappings.keys():\n",
    "        # Match table names case-insensitively\n",
    "        sql_content = re.sub(\n",
    "            rf'\\b{re.escape(postgres_table)}\\b',  # Match whole word\n",
    "            replace_table_name,                  # Replacement function\n",
    "            sql_content,                         # Target text\n",
    "            flags=re.IGNORECASE                  # Case-insensitive\n",
    "        )\n",
    "\n",
    "    # Convert SQL syntax from Postgres to Snowflake using SQLGlot\n",
    "    try:\n",
    "        converted_sql = sqlglot.transpile(sql_content, read='postgres', write='snowflake')\n",
    "        converted_sql_text = '\\n'.join(converted_sql)\n",
    "    except Exception as e:\n",
    "        print(f\"Error during SQL conversion: {e}\")\n",
    "        return\n",
    "\n",
    "    # Write the converted SQL to the output file\n",
    "    with open(output_sql_file, 'w') as output_file:\n",
    "        output_file.write(converted_sql_text)\n",
    "\n",
    "    print(f\"SQL conversion complete. Output saved to: {output_sql_file}\")\n",
    "\n",
    "# Example usage\n",
    "if __name__ == \"__main__\":\n",
    "    # Provide paths to the input files and output file\n",
    "    input_sql_file = \"/Users/jlcavazos/Learn Python/input_postgres.sql\"          # Path to input SQL file\n",
    "    output_sql_file = \"/Users/jlcavazos/Learn Python/output_snowflake.sql\"       # Path to save the converted SQL file\n",
    "    table_mapping_file = \"/Users/jlcavazos/Learn Python/table_mapping.txt\"       # Path to table mapping file\n",
    "\n",
    "    convert_sql_with_table_mapping(input_sql_file, output_sql_file, table_mapping_file)\n"
   ]
  },
  {
   "cell_type": "markdown",
   "id": "72202c1f-d786-4dac-9921-1ff57c2b31ed",
   "metadata": {},
   "source": [
    "# Final Working Draft\n",
    "## Convert Postgres Code to Snowflake Code\n",
    "### **table_mapping_file** needs to be updated if a table name is not correct \n",
    "### Postgres is added to the **input_sql_file** \n",
    "### *Run the code* \n",
    "### Results will be in the **output_sql_file** "
   ]
  },
  {
   "cell_type": "code",
   "execution_count": 1,
   "id": "038b7296-f742-4d9b-a294-d7d29baac9c1",
   "metadata": {},
   "outputs": [
    {
     "name": "stdout",
     "output_type": "stream",
     "text": [
      "SQL conversion and formatting complete. Output saved to: /Users/jlcavazos/Learn Python/job_related/output_snowflake.sql\n"
     ]
    }
   ],
   "source": [
    "import sqlglot\n",
    "import sqlparse\n",
    "import re\n",
    "\n",
    "def convert_sql_with_table_mapping(input_sql_file, output_sql_file, table_mapping_file):\n",
    "    \"\"\"\n",
    "    Converts a SQL file from Postgres to Snowflake syntax and replaces table names based on a mapping.\n",
    "    Formats the output SQL file with consistent spacing and indentation.\n",
    "\n",
    "    Args:\n",
    "        input_sql_file (str): Path to the input SQL file.\n",
    "        output_sql_file (str): Path to save the formatted and converted SQL file.\n",
    "        table_mapping_file (str): Path to the file with table name mappings (Postgres to Snowflake).\n",
    "                                  Format: postgres_table_name,snowflake_table_name\n",
    "    \"\"\"\n",
    "    # Load table name mappings\n",
    "    table_mappings = {}\n",
    "    with open(table_mapping_file, 'r') as mapping_file:\n",
    "        for line in mapping_file:\n",
    "            if ',' in line:\n",
    "                postgres_table, snowflake_table = line.strip().split(',')\n",
    "                table_mappings[postgres_table.strip().lower()] = snowflake_table.strip()\n",
    "\n",
    "    # Read the input SQL file\n",
    "    with open(input_sql_file, 'r') as input_file:\n",
    "        sql_content = input_file.read()\n",
    "\n",
    "    # Replace table names using the mapping (case-insensitive)\n",
    "    def replace_table_name(match):\n",
    "        original_table_name = match.group(0)\n",
    "        return table_mappings[original_table_name.lower()]\n",
    "\n",
    "    for postgres_table in table_mappings.keys():\n",
    "        sql_content = re.sub(\n",
    "            rf'\\b{re.escape(postgres_table)}\\b',\n",
    "            replace_table_name,\n",
    "            sql_content,\n",
    "            flags=re.IGNORECASE\n",
    "        )\n",
    "\n",
    "    # Convert SQL syntax from Postgres to Snowflake using SQLGlot\n",
    "    try:\n",
    "        converted_sql = sqlglot.transpile(sql_content, read='postgres', write='snowflake')\n",
    "        converted_sql_text = '\\n'.join(converted_sql)\n",
    "    except Exception as e:\n",
    "        print(f\"Error during SQL conversion: {e}\")\n",
    "        return\n",
    "\n",
    "    # Format the converted SQL using sqlparse\n",
    "    formatted_sql = sqlparse.format(converted_sql_text, reindent=True, keyword_case='upper')\n",
    "\n",
    "    # Write the formatted SQL to the output file\n",
    "    with open(output_sql_file, 'w') as output_file:\n",
    "        output_file.write(formatted_sql)\n",
    "\n",
    "    print(f\"SQL conversion and formatting complete. Output saved to: {output_sql_file}\")\n",
    "\n",
    "# Example usage\n",
    "if __name__ == \"__main__\":\n",
    "    # Provide paths to the input files and output file\n",
    "    input_sql_file = \"/Users/jlcavazos/Learn Python/job_related/input_postgres.sql\"          # Path to input SQL file\n",
    "    output_sql_file = \"/Users/jlcavazos/Learn Python/job_related/output_snowflake.sql\"       # Path to save the formatted SQL file\n",
    "    table_mapping_file = \"/Users/jlcavazos/Learn Python/job_related/table_mapping2.txt\"       # Path to table mapping file\n",
    "\n",
    "    convert_sql_with_table_mapping(input_sql_file, output_sql_file, table_mapping_file)\n"
   ]
  },
  {
   "cell_type": "code",
   "execution_count": null,
   "id": "390fbb92-f25a-445f-a188-821032a6d068",
   "metadata": {},
   "outputs": [],
   "source": []
  }
 ],
 "metadata": {
  "kernelspec": {
   "display_name": "Python 3 (ipykernel)",
   "language": "python",
   "name": "python3"
  },
  "language_info": {
   "codemirror_mode": {
    "name": "ipython",
    "version": 3
   },
   "file_extension": ".py",
   "mimetype": "text/x-python",
   "name": "python",
   "nbconvert_exporter": "python",
   "pygments_lexer": "ipython3",
   "version": "3.9.6"
  }
 },
 "nbformat": 4,
 "nbformat_minor": 5
}
