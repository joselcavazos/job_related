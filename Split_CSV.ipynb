{
 "cells": [
  {
   "cell_type": "markdown",
   "id": "b822d3a6-26d5-4e36-89f5-5b3c647a3fa3",
   "metadata": {},
   "source": [
    "# Script to Split CSV by record count"
   ]
  },
  {
   "cell_type": "markdown",
   "id": "72f22e75-dd78-4f29-932f-19f10a79b084",
   "metadata": {},
   "source": [
    "### Update patch with file and run to get count of a CSV"
   ]
  },
  {
   "cell_type": "code",
   "execution_count": 4,
   "id": "f7da3d24-2c9d-46af-8f26-6aceea153b0d",
   "metadata": {},
   "outputs": [
    {
     "name": "stdout",
     "output_type": "stream",
     "text": [
      "The CSV file '/Users/jlcavazos/Learn Python/job_related/python_test_big_file.csv' contains 49555 rows (excluding the header).\n"
     ]
    }
   ],
   "source": [
    "import csv\n",
    "\n",
    "def count_rows(file_path):\n",
    "    \"\"\"\n",
    "    Counts the number of rows in a CSV file.\n",
    "\n",
    "    :param file_path: Path to the CSV file.\n",
    "    :return: Total number of rows in the CSV (excluding the header).\n",
    "    \"\"\"\n",
    "    with open(file_path, 'r', newline='', encoding='utf-8') as csv_file:\n",
    "        reader = csv.reader(csv_file)\n",
    "        header = next(reader)  # Skip the header row\n",
    "        row_count = sum(1 for _ in reader)\n",
    "    return row_count\n",
    "\n",
    "# Example usage\n",
    "input_csv = '/Users/jlcavazos/Learn Python/job_related/python_test_big_file.csv'  # Replace with your CSV file path\n",
    "total_rows = count_rows(input_csv)\n",
    "print(f\"The CSV file '{input_csv}' contains {total_rows} rows (excluding the header).\")\n"
   ]
  },
  {
   "cell_type": "markdown",
   "id": "514debbb-3999-48df-b05e-afc6e67283b0",
   "metadata": {},
   "source": [
    "### Update large csv file path\n",
    "### Count of records split\n",
    "### Path of folder where split will be dumped "
   ]
  },
  {
   "cell_type": "code",
   "execution_count": 3,
   "id": "558be9c2-ef6c-46d1-885c-3a88310b6331",
   "metadata": {},
   "outputs": [
    {
     "name": "stdout",
     "output_type": "stream",
     "text": [
      "Created /Users/jlcavazos/Learn Python/job_related/split_folder/split_1.csv with 49555 rows.\n"
     ]
    }
   ],
   "source": [
    "import csv\n",
    "import os\n",
    "\n",
    "def split_csv(file_path, row_limit, output_dir):\n",
    "    \"\"\"\n",
    "    Splits a CSV file into smaller files with a specified number of rows.\n",
    "\n",
    "    :param file_path: Path to the input CSV file.\n",
    "    :param row_limit: Number of rows per split file.\n",
    "    :param output_dir: Directory where the split files will be saved.\n",
    "    \"\"\"\n",
    "    # Ensure the output directory exists\n",
    "    if not os.path.exists(output_dir):\n",
    "        os.makedirs(output_dir)\n",
    "\n",
    "    # Open the input CSV file\n",
    "    with open(file_path, 'r', newline='', encoding='utf-8') as csv_file:\n",
    "        reader = csv.reader(csv_file)\n",
    "        header = next(reader)  # Read the header row\n",
    "        \n",
    "        file_count = 1\n",
    "        rows = []\n",
    "\n",
    "        for row in reader:\n",
    "            rows.append(row)\n",
    "            if len(rows) == row_limit:\n",
    "                # Write to a new split file when row_limit is reached\n",
    "                output_file = os.path.join(output_dir, f'split_{file_count}.csv')\n",
    "                with open(output_file, 'w', newline='', encoding='utf-8') as split_file:\n",
    "                    writer = csv.writer(split_file)\n",
    "                    writer.writerow(header)  # Write the header\n",
    "                    writer.writerows(rows)  # Write the rows\n",
    "                print(f\"Created {output_file} with {len(rows)} rows.\")\n",
    "                \n",
    "                file_count += 1\n",
    "                rows = []\n",
    "\n",
    "        # Write any remaining rows to a final split file\n",
    "        if rows:\n",
    "            output_file = os.path.join(output_dir, f'split_{file_count}.csv')\n",
    "            with open(output_file, 'w', newline='', encoding='utf-8') as split_file:\n",
    "                writer = csv.writer(split_file)\n",
    "                writer.writerow(header)\n",
    "                writer.writerows(rows)\n",
    "            print(f\"Created {output_file} with {len(rows)} rows.\")\n",
    "\n",
    "# Example usage\n",
    "input_csv = '/Users/jlcavazos/Learn Python/job_related/python_test_big_file.csv'  # Replace with your large CSV file\n",
    "row_limit = 50000  # Number of rows per split file\n",
    "output_directory = '/Users/jlcavazos/Learn Python/job_related/split_folder'  # Directory to save the split files\n",
    "\n",
    "split_csv(input_csv, row_limit, output_directory)\n"
   ]
  },
  {
   "cell_type": "markdown",
   "id": "801c9833-6053-45f4-9e9e-913474b21a1f",
   "metadata": {},
   "source": [
    "# Draft 2"
   ]
  },
  {
   "cell_type": "code",
   "execution_count": 7,
   "id": "c85f90a2-1b55-441a-ae3a-1e08fa541974",
   "metadata": {},
   "outputs": [
    {
     "name": "stdout",
     "output_type": "stream",
     "text": [
      "CSV file split into 10 parts successfully. Files saved in: /Users/jlcavazos/Learn Python/job_related/split_folder\n"
     ]
    }
   ],
   "source": [
    "import csv\n",
    "import os\n",
    "\n",
    "def split_csv(input_file, output_dir, rows_per_file):\n",
    "    \"\"\"\n",
    "    Splits a large CSV file into smaller CSVs, including the header row from the first file in each split.\n",
    "\n",
    "    :param input_file: Path to the input CSV file.\n",
    "    :param output_dir: Directory to save the split CSV files.\n",
    "    :param rows_per_file: Number of rows in each split file (excluding the header row).\n",
    "    \"\"\"\n",
    "    if not os.path.exists(output_dir):\n",
    "        os.makedirs(output_dir)\n",
    "    \n",
    "    try:\n",
    "        with open(input_file, 'r') as infile:\n",
    "            reader = csv.reader(infile)\n",
    "            header = next(reader)  # Read the header row\n",
    "            \n",
    "            file_count = 1\n",
    "            rows_written = 0\n",
    "            \n",
    "            outfile = None\n",
    "            writer = None\n",
    "            \n",
    "            for row in reader:\n",
    "                # Create a new output file when necessary\n",
    "                if rows_written == 0:\n",
    "                    if outfile:\n",
    "                        outfile.close()\n",
    "                    outfile_path = os.path.join(output_dir, f\"split_part{file_count}.csv\")\n",
    "                    outfile = open(outfile_path, 'w', newline='')\n",
    "                    writer = csv.writer(outfile)\n",
    "                    writer.writerow(header)  # Write the header row\n",
    "                    file_count += 1\n",
    "                \n",
    "                writer.writerow(row)\n",
    "                rows_written += 1\n",
    "                \n",
    "                # Check if the current file reached the limit\n",
    "                if rows_written == rows_per_file:\n",
    "                    rows_written = 0\n",
    "            \n",
    "            # Close the last file\n",
    "            if outfile:\n",
    "                outfile.close()\n",
    "        \n",
    "        print(f\"CSV file split into {file_count - 1} parts successfully. Files saved in: {output_dir}\")\n",
    "    \n",
    "    except FileNotFoundError:\n",
    "        print(f\"Error: The file {input_file} was not found.\")\n",
    "    except Exception as e:\n",
    "        print(f\"An error occurred: {e}\")\n",
    "\n",
    "# Example usage\n",
    "input_csv_file = \"/Users/jlcavazos/Learn Python/job_related/python_test_big_file.csv\"  # Replace with the path to your input file\n",
    "output_directory = \"/Users/jlcavazos/Learn Python/job_related/split_folder\"  # Replace with your desired output directory\n",
    "rows_per_split = 5000  # Adjust the number of rows per split (excluding header)\n",
    "\n",
    "split_csv(input_csv_file, output_directory, rows_per_split)\n"
   ]
  },
  {
   "cell_type": "code",
   "execution_count": null,
   "id": "d2fdffad-0561-48cd-8f58-a5d594a76e50",
   "metadata": {},
   "outputs": [],
   "source": []
  }
 ],
 "metadata": {
  "kernelspec": {
   "display_name": "Python 3 (ipykernel)",
   "language": "python",
   "name": "python3"
  },
  "language_info": {
   "codemirror_mode": {
    "name": "ipython",
    "version": 3
   },
   "file_extension": ".py",
   "mimetype": "text/x-python",
   "name": "python",
   "nbconvert_exporter": "python",
   "pygments_lexer": "ipython3",
   "version": "3.9.6"
  }
 },
 "nbformat": 4,
 "nbformat_minor": 5
}
