{
 "cells": [
  {
   "cell_type": "markdown",
   "id": "b822d3a6-26d5-4e36-89f5-5b3c647a3fa3",
   "metadata": {},
   "source": [
    "# Script to Split CSV by record count"
   ]
  },
  {
   "cell_type": "code",
   "execution_count": 1,
   "id": "b97c9834-0e2e-442d-ba13-b5c44ee9c047",
   "metadata": {},
   "outputs": [
    {
     "name": "stdout",
     "output_type": "stream",
     "text": [
      "Defaulting to user installation because normal site-packages is not writeable\n",
      "\u001b[31mERROR: Could not find a version that satisfies the requirement csv (from versions: none)\u001b[0m\u001b[31m\n",
      "\u001b[31mERROR: No matching distribution found for csv\u001b[0m\u001b[31m\n",
      "Note: you may need to restart the kernel to use updated packages.\n"
     ]
    }
   ],
   "source": [
    "%pip install csv\n"
   ]
  },
  {
   "cell_type": "code",
   "execution_count": 2,
   "id": "558be9c2-ef6c-46d1-885c-3a88310b6331",
   "metadata": {},
   "outputs": [
    {
     "name": "stdout",
     "output_type": "stream",
     "text": [
      "Created /Users/jlcavazos/Learn Python/job_related/split_folder/split_1.csv with 1000 rows.\n",
      "Created /Users/jlcavazos/Learn Python/job_related/split_folder/split_2.csv with 1000 rows.\n",
      "Created /Users/jlcavazos/Learn Python/job_related/split_folder/split_3.csv with 1000 rows.\n",
      "Created /Users/jlcavazos/Learn Python/job_related/split_folder/split_4.csv with 1000 rows.\n",
      "Created /Users/jlcavazos/Learn Python/job_related/split_folder/split_5.csv with 1000 rows.\n",
      "Created /Users/jlcavazos/Learn Python/job_related/split_folder/split_6.csv with 1000 rows.\n",
      "Created /Users/jlcavazos/Learn Python/job_related/split_folder/split_7.csv with 1000 rows.\n",
      "Created /Users/jlcavazos/Learn Python/job_related/split_folder/split_8.csv with 1000 rows.\n",
      "Created /Users/jlcavazos/Learn Python/job_related/split_folder/split_9.csv with 1000 rows.\n",
      "Created /Users/jlcavazos/Learn Python/job_related/split_folder/split_10.csv with 1000 rows.\n",
      "Created /Users/jlcavazos/Learn Python/job_related/split_folder/split_11.csv with 1000 rows.\n",
      "Created /Users/jlcavazos/Learn Python/job_related/split_folder/split_12.csv with 1000 rows.\n",
      "Created /Users/jlcavazos/Learn Python/job_related/split_folder/split_13.csv with 1000 rows.\n",
      "Created /Users/jlcavazos/Learn Python/job_related/split_folder/split_14.csv with 1000 rows.\n",
      "Created /Users/jlcavazos/Learn Python/job_related/split_folder/split_15.csv with 1000 rows.\n",
      "Created /Users/jlcavazos/Learn Python/job_related/split_folder/split_16.csv with 1000 rows.\n",
      "Created /Users/jlcavazos/Learn Python/job_related/split_folder/split_17.csv with 1000 rows.\n",
      "Created /Users/jlcavazos/Learn Python/job_related/split_folder/split_18.csv with 1000 rows.\n",
      "Created /Users/jlcavazos/Learn Python/job_related/split_folder/split_19.csv with 1000 rows.\n",
      "Created /Users/jlcavazos/Learn Python/job_related/split_folder/split_20.csv with 1000 rows.\n",
      "Created /Users/jlcavazos/Learn Python/job_related/split_folder/split_21.csv with 1000 rows.\n",
      "Created /Users/jlcavazos/Learn Python/job_related/split_folder/split_22.csv with 1000 rows.\n",
      "Created /Users/jlcavazos/Learn Python/job_related/split_folder/split_23.csv with 1000 rows.\n",
      "Created /Users/jlcavazos/Learn Python/job_related/split_folder/split_24.csv with 1000 rows.\n",
      "Created /Users/jlcavazos/Learn Python/job_related/split_folder/split_25.csv with 1000 rows.\n",
      "Created /Users/jlcavazos/Learn Python/job_related/split_folder/split_26.csv with 1000 rows.\n",
      "Created /Users/jlcavazos/Learn Python/job_related/split_folder/split_27.csv with 1000 rows.\n",
      "Created /Users/jlcavazos/Learn Python/job_related/split_folder/split_28.csv with 1000 rows.\n",
      "Created /Users/jlcavazos/Learn Python/job_related/split_folder/split_29.csv with 1000 rows.\n",
      "Created /Users/jlcavazos/Learn Python/job_related/split_folder/split_30.csv with 1000 rows.\n",
      "Created /Users/jlcavazos/Learn Python/job_related/split_folder/split_31.csv with 1000 rows.\n",
      "Created /Users/jlcavazos/Learn Python/job_related/split_folder/split_32.csv with 1000 rows.\n",
      "Created /Users/jlcavazos/Learn Python/job_related/split_folder/split_33.csv with 1000 rows.\n",
      "Created /Users/jlcavazos/Learn Python/job_related/split_folder/split_34.csv with 1000 rows.\n",
      "Created /Users/jlcavazos/Learn Python/job_related/split_folder/split_35.csv with 1000 rows.\n",
      "Created /Users/jlcavazos/Learn Python/job_related/split_folder/split_36.csv with 1000 rows.\n",
      "Created /Users/jlcavazos/Learn Python/job_related/split_folder/split_37.csv with 1000 rows.\n",
      "Created /Users/jlcavazos/Learn Python/job_related/split_folder/split_38.csv with 1000 rows.\n",
      "Created /Users/jlcavazos/Learn Python/job_related/split_folder/split_39.csv with 1000 rows.\n",
      "Created /Users/jlcavazos/Learn Python/job_related/split_folder/split_40.csv with 1000 rows.\n",
      "Created /Users/jlcavazos/Learn Python/job_related/split_folder/split_41.csv with 1000 rows.\n",
      "Created /Users/jlcavazos/Learn Python/job_related/split_folder/split_42.csv with 1000 rows.\n",
      "Created /Users/jlcavazos/Learn Python/job_related/split_folder/split_43.csv with 1000 rows.\n",
      "Created /Users/jlcavazos/Learn Python/job_related/split_folder/split_44.csv with 1000 rows.\n",
      "Created /Users/jlcavazos/Learn Python/job_related/split_folder/split_45.csv with 1000 rows.\n",
      "Created /Users/jlcavazos/Learn Python/job_related/split_folder/split_46.csv with 1000 rows.\n",
      "Created /Users/jlcavazos/Learn Python/job_related/split_folder/split_47.csv with 1000 rows.\n",
      "Created /Users/jlcavazos/Learn Python/job_related/split_folder/split_48.csv with 1000 rows.\n",
      "Created /Users/jlcavazos/Learn Python/job_related/split_folder/split_49.csv with 1000 rows.\n",
      "Created /Users/jlcavazos/Learn Python/job_related/split_folder/split_50.csv with 555 rows.\n"
     ]
    }
   ],
   "source": [
    "import csv\n",
    "import os\n",
    "\n",
    "def split_csv(file_path, row_limit, output_dir):\n",
    "    \"\"\"\n",
    "    Splits a CSV file into smaller files with a specified number of rows.\n",
    "\n",
    "    :param file_path: Path to the input CSV file.\n",
    "    :param row_limit: Number of rows per split file.\n",
    "    :param output_dir: Directory where the split files will be saved.\n",
    "    \"\"\"\n",
    "    # Ensure the output directory exists\n",
    "    if not os.path.exists(output_dir):\n",
    "        os.makedirs(output_dir)\n",
    "\n",
    "    # Open the input CSV file\n",
    "    with open(file_path, 'r', newline='', encoding='utf-8') as csv_file:\n",
    "        reader = csv.reader(csv_file)\n",
    "        header = next(reader)  # Read the header row\n",
    "        \n",
    "        file_count = 1\n",
    "        rows = []\n",
    "\n",
    "        for row in reader:\n",
    "            rows.append(row)\n",
    "            if len(rows) == row_limit:\n",
    "                # Write to a new split file when row_limit is reached\n",
    "                output_file = os.path.join(output_dir, f'split_{file_count}.csv')\n",
    "                with open(output_file, 'w', newline='', encoding='utf-8') as split_file:\n",
    "                    writer = csv.writer(split_file)\n",
    "                    writer.writerow(header)  # Write the header\n",
    "                    writer.writerows(rows)  # Write the rows\n",
    "                print(f\"Created {output_file} with {len(rows)} rows.\")\n",
    "                \n",
    "                file_count += 1\n",
    "                rows = []\n",
    "\n",
    "        # Write any remaining rows to a final split file\n",
    "        if rows:\n",
    "            output_file = os.path.join(output_dir, f'split_{file_count}.csv')\n",
    "            with open(output_file, 'w', newline='', encoding='utf-8') as split_file:\n",
    "                writer = csv.writer(split_file)\n",
    "                writer.writerow(header)\n",
    "                writer.writerows(rows)\n",
    "            print(f\"Created {output_file} with {len(rows)} rows.\")\n",
    "\n",
    "# Example usage\n",
    "input_csv = '/Users/jlcavazos/Learn Python/job_related/python_test_big_file.csv'  # Replace with your large CSV file\n",
    "row_limit = 1000  # Number of rows per split file\n",
    "output_directory = '/Users/jlcavazos/Learn Python/job_related/split_folder'  # Directory to save the split files\n",
    "\n",
    "split_csv(input_csv, row_limit, output_directory)\n"
   ]
  }
 ],
 "metadata": {
  "kernelspec": {
   "display_name": "Python 3 (ipykernel)",
   "language": "python",
   "name": "python3"
  },
  "language_info": {
   "codemirror_mode": {
    "name": "ipython",
    "version": 3
   },
   "file_extension": ".py",
   "mimetype": "text/x-python",
   "name": "python",
   "nbconvert_exporter": "python",
   "pygments_lexer": "ipython3",
   "version": "3.9.6"
  }
 },
 "nbformat": 4,
 "nbformat_minor": 5
}
